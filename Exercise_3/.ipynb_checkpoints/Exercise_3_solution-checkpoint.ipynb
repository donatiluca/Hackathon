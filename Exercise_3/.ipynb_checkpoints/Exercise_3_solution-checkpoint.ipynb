{
 "cells": [
  {
   "cell_type": "code",
   "execution_count": null,
   "id": "c1438a56-db60-46bd-9c94-d5ebc21779dd",
   "metadata": {},
   "outputs": [],
   "source": [
    "import mdtraj as md\n",
    "import numpy as np\n",
    "import sympy as sp\n",
    "import torch as pt\n",
    "from tqdm import tqdm\n",
    "import scipy \n",
    "\n",
    "import matplotlib.pyplot as plt\n",
    "\n",
    "np.random.seed(0)\n",
    "pt.manual_seed(0)\n",
    "\n",
    "font = {'size'   : 10}\n",
    "plt.rc('font', **font)\n",
    "in2cm = 1/2.54  # centimeters in inches"
   ]
  },
  {
   "cell_type": "markdown",
   "id": "60f6a3fc-86fa-4aae-b087-be27b18c91e7",
   "metadata": {},
   "source": [
    "# Exercise 3\n",
    "## ISOKANN applied to the peptide VGVAPG (Val-Gly-Val-Ala-Pro-Gly)\n",
    "In this exercise, you will apply ISOKANN to a peptide of six amino acids.\n",
    "This amino acid is made of 73 atoms, then this is a 219-dimensional system.\n",
    "\n",
    "You will not have to generate trajectories, but they will be provided for you.\n",
    "\n",
    "The data set is made of 500 initial states and 500x100 final states.\n",
    "Each file of the final states contains 10 states separated by 0.2 ps. "
   ]
  },
  {
   "cell_type": "code",
   "execution_count": null,
   "id": "0bf4d665-3707-47f6-9e4d-98a166ab26d4",
   "metadata": {},
   "outputs": [],
   "source": [
    "# Load one initial state\n",
    "i   = 55\n",
    "trj = md.load(\"initial_states/x0_\" + str(i) + \".rst7\", top = \"VGVAPG_nowat.prmtop\")  \n",
    "d   = np.squeeze(md.compute_distances(trj,[[0,70]], periodic=False))\n",
    "print(d)"
   ]
  },
  {
   "cell_type": "code",
   "execution_count": null,
   "id": "ad508d2e-71a2-4600-8367-9e4ce1f94884",
   "metadata": {},
   "outputs": [],
   "source": [
    "# Load one finale state\n",
    "i   = 0\n",
    "r   = 0\n",
    "trj = md.load(\"final_states/xf_\" + str(i) + \"_r\" + str(r) + \".dcd\", top = \"VGVAPG_nowat.prmtop\")  \n",
    "d   = np.squeeze(md.compute_distances(trj,[[0,70]], periodic=False))"
   ]
  },
  {
   "cell_type": "code",
   "execution_count": null,
   "id": "a1b154a7-a674-4f5f-b84e-7ea182607359",
   "metadata": {},
   "outputs": [],
   "source": [
    "plt.plot(d, 'o')"
   ]
  },
  {
   "cell_type": "code",
   "execution_count": null,
   "id": "a7731b9a-a000-4260-8d67-2c416d52cd1d",
   "metadata": {},
   "outputs": [],
   "source": []
  }
 ],
 "metadata": {
  "kernelspec": {
   "display_name": "Python 3 (ipykernel)",
   "language": "python",
   "name": "python3"
  },
  "language_info": {
   "codemirror_mode": {
    "name": "ipython",
    "version": 3
   },
   "file_extension": ".py",
   "mimetype": "text/x-python",
   "name": "python",
   "nbconvert_exporter": "python",
   "pygments_lexer": "ipython3",
   "version": "3.8.18"
  }
 },
 "nbformat": 4,
 "nbformat_minor": 5
}
